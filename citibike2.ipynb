{
 "cells": [
  {
   "cell_type": "code",
   "execution_count": 1,
   "metadata": {},
   "outputs": [],
   "source": [
    "import os\n",
    "import zipfile\n",
    "import requests\n",
    "from bs4 import BeautifulSoup\n",
    "import pandas as pd\n",
    "import numpy as np\n",
    "import matplotlib.pyplot as plt"
   ]
  },
  {
   "cell_type": "code",
   "execution_count": 2,
   "metadata": {},
   "outputs": [],
   "source": [
    "# load url content into soup\n",
    "url = 'https://s3.amazonaws.com/tripdata/'\n",
    "\n",
    "r = requests.get(url)\n",
    "soup = BeautifulSoup(r.text, 'xml')"
   ]
  },
  {
   "cell_type": "code",
   "execution_count": 3,
   "metadata": {},
   "outputs": [],
   "source": [
    "# extract file names from soup\n",
    "files = soup.find_all('Key')\n",
    "clean_files = []\n",
    "for i in range(len(files)-1):\n",
    "    clean_files.append(files[i].get_text())"
   ]
  },
  {
   "cell_type": "code",
   "execution_count": null,
   "metadata": {},
   "outputs": [],
   "source": [
    "# download & unzip data files\n",
    "for file in clean_files:\n",
    "    file_url = url + file\n",
    "    with open(file, \"wb\") as f:\n",
    "            response = requests.get(file_url)\n",
    "            f.write(response.content)\n",
    "    # unzip data files\n",
    "    with zipfile.ZipFile(file, \"r\") as zip_ref:\n",
    "        zip_ref.extractall(\"tripdata\")        \n",
    "    # remove zipped file after unziping\n",
    "    os.remove(file)\n",
    "os.rmdir('tripdata/__MACOSX')"
   ]
  },
  {
   "cell_type": "code",
   "execution_count": null,
   "metadata": {},
   "outputs": [],
   "source": [
    "# rename files \n",
    "directory = 'tripdata/'\n",
    "for file in os.listdir(directory):\n",
    "    filename = os.fsdecode(file)\n",
    "    if filename.endswith('.csv'):\n",
    "        new_filename = filename.replace(' ','').lower().split('ci', 1)[0].strip('-').replace('-','_')\n",
    "        os.rename(os.path.join(directory, filename), os.path.join(directory, new_filename + '.csv'))"
   ]
  },
  {
   "cell_type": "code",
   "execution_count": 4,
   "metadata": {},
   "outputs": [],
   "source": [
    "#load into dfs (use when files have alredy been downloaded & renamed)\n",
    "directory = 'tripdata/'\n",
    "dfs = {}\n",
    "\n",
    "for file in os.listdir(directory):\n",
    "    filename = os.fsdecode(file)\n",
    "    if filename.endswith('.csv'):\n",
    "        dfs[filename.split('.')[0]] = pd.read_csv(os.path.join(directory, filename)) "
   ]
  },
  {
   "cell_type": "code",
   "execution_count": 5,
   "metadata": {},
   "outputs": [],
   "source": [
    "#make column names consistent across all dfs\n",
    "col_names = ['trip_duration', 'start_time', 'stop_time', 'start_station_id', 'start_station_name', 'start_station_lat',\n",
    "             'start_station_long', 'end_station_id', 'end_station_name', 'end_station_lat', 'end_station_long',\n",
    "             'bike_id', 'user_type', 'birth_year', 'gender']\n",
    "\n",
    "for df in dfs.values():\n",
    "    df.columns = col_names"
   ]
  },
  {
   "cell_type": "code",
   "execution_count": 6,
   "metadata": {},
   "outputs": [],
   "source": [
    "# iterate over dfs changing dates to datetime\n",
    "for df in dfs.values():\n",
    "    df.start_time =  pd.to_datetime(df.start_time, format='%m/%d/%Y %H:%M:%S', errors='ignore')\n",
    "    df.start_time =  pd.to_datetime(df.start_time, format='%m/%d/%Y %H:%M', errors='ignore')\n",
    "    df.start_time =  pd.to_datetime(df.start_time, format='%Y-%m-%d %H:%M:%S', errors='ignore')\n",
    "    df.stop_time =  pd.to_datetime(df.stop_time, format='%m/%d/%Y %H:%M:%S', errors='ignore')\n",
    "    df.stop_time =  pd.to_datetime(df.stop_time, format='%m/%d/%Y %H:%M', errors='ignore')\n",
    "    df.stop_time =  pd.to_datetime(df.stop_time, format='%Y-%m-%d %H:%M:%S', errors='ignore')"
   ]
  },
  {
   "cell_type": "code",
   "execution_count": 56,
   "metadata": {},
   "outputs": [],
   "source": [
    "# concatenate all dfs into a single master one\n",
    "master_df = pd.concat(dfs, ignore_index=True)"
   ]
  },
  {
   "cell_type": "code",
   "execution_count": null,
   "metadata": {},
   "outputs": [],
   "source": [
    "master_df.info()"
   ]
  },
  {
   "cell_type": "code",
   "execution_count": null,
   "metadata": {},
   "outputs": [],
   "source": [
    "master_df.sample(n=10)"
   ]
  },
  {
   "cell_type": "code",
   "execution_count": 57,
   "metadata": {},
   "outputs": [],
   "source": [
    "# change data types to more appropriate / efficient ones\n",
    "# downcast trip duration\n",
    "master_df.trip_duration = pd.to_numeric(master_df.trip_duration, downcast = 'unsigned')"
   ]
  },
  {
   "cell_type": "code",
   "execution_count": 58,
   "metadata": {},
   "outputs": [],
   "source": [
    "# make birth_year column a float\n",
    "master_df.birth_year = pd.to_numeric(master_df.birth_year, errors='coerce', downcast='float')"
   ]
  },
  {
   "cell_type": "code",
   "execution_count": 59,
   "metadata": {},
   "outputs": [],
   "source": [
    "# downcast floats\n",
    "float_cols = ['start_station_lat', 'start_station_long', 'end_station_lat', 'end_station_long']\n",
    "for col in float_cols:\n",
    "    master_df[col] = pd.to_numeric(master_df[col], downcast='float')"
   ]
  },
  {
   "cell_type": "code",
   "execution_count": 60,
   "metadata": {},
   "outputs": [],
   "source": [
    "# convert appropriate columns to categories\n",
    "category_cols = ['start_station_id', 'start_station_name', 'end_station_id', 'end_station_name', 'bike_id', 'user_type',\n",
    "             'gender']\n",
    "for col in category_cols:\n",
    "    master_df[col] = master_df[col].astype('category')"
   ]
  },
  {
   "cell_type": "code",
   "execution_count": null,
   "metadata": {
    "scrolled": true
   },
   "outputs": [],
   "source": [
    "master_df.info()"
   ]
  },
  {
   "cell_type": "code",
   "execution_count": 61,
   "metadata": {},
   "outputs": [],
   "source": [
    "# replace numeric representation of gender for actual gender\n",
    "master_df.gender = master_df.gender.replace({0: np.nan, 1: 'male', 2: 'female'}).astype('category')"
   ]
  },
  {
   "cell_type": "code",
   "execution_count": null,
   "metadata": {},
   "outputs": [],
   "source": [
    "master_df.info()"
   ]
  },
  {
   "cell_type": "code",
   "execution_count": 62,
   "metadata": {},
   "outputs": [
    {
     "data": {
      "text/plain": [
       "trip_duration               0\n",
       "start_time                  0\n",
       "stop_time                   0\n",
       "start_station_id         2677\n",
       "start_station_name       2677\n",
       "start_station_lat           0\n",
       "start_station_long          0\n",
       "end_station_id          20736\n",
       "end_station_name        20736\n",
       "end_station_lat         18059\n",
       "end_station_long        18059\n",
       "bike_id                     0\n",
       "user_type               52277\n",
       "birth_year            6273717\n",
       "gender                8980438\n",
       "dtype: int64"
      ]
     },
     "execution_count": 62,
     "metadata": {},
     "output_type": "execute_result"
    }
   ],
   "source": [
    "master_df.isna().sum()"
   ]
  },
  {
   "cell_type": "code",
   "execution_count": 64,
   "metadata": {},
   "outputs": [],
   "source": [
    "# set start_time as index\n",
    "master_df.set_index('start_time', inplace=True)"
   ]
  },
  {
   "cell_type": "code",
   "execution_count": 65,
   "metadata": {},
   "outputs": [
    {
     "name": "stdout",
     "output_type": "stream",
     "text": [
      "<class 'pandas.core.frame.DataFrame'>\n",
      "DatetimeIndex: 86185242 entries, 2016-04-01 00:00:26 to 2016-09-30 23:59:51\n",
      "Data columns (total 14 columns):\n",
      "trip_duration         uint32\n",
      "stop_time             datetime64[ns]\n",
      "start_station_id      category\n",
      "start_station_name    category\n",
      "start_station_lat     float32\n",
      "start_station_long    float32\n",
      "end_station_id        category\n",
      "end_station_name      category\n",
      "end_station_lat       float32\n",
      "end_station_long      float32\n",
      "bike_id               category\n",
      "user_type             category\n",
      "birth_year            float32\n",
      "gender                category\n",
      "dtypes: category(7), datetime64[ns](1), float32(5), uint32(1)\n",
      "memory usage: 4.2 GB\n"
     ]
    }
   ],
   "source": [
    "master_df.info()"
   ]
  },
  {
   "cell_type": "code",
   "execution_count": 66,
   "metadata": {},
   "outputs": [],
   "source": [
    "master_df.to_pickle('master_df.pickle')"
   ]
  },
  {
   "cell_type": "code",
   "execution_count": null,
   "metadata": {},
   "outputs": [],
   "source": [
    "# Bronx rides\n",
    "master_df.loc[master_df.start_station_id.isna()]"
   ]
  },
  {
   "cell_type": "code",
   "execution_count": null,
   "metadata": {},
   "outputs": [],
   "source": [
    "master_df.loc[(master_df.end_station_id.isna()) & (master_df.start_station_id.notna())]"
   ]
  },
  {
   "cell_type": "code",
   "execution_count": 12,
   "metadata": {},
   "outputs": [],
   "source": [
    "df_subset = dfs['201908']\n",
    "\n",
    "# downcast trip duration\n",
    "df_subset.trip_duration = pd.to_numeric(df_subset.trip_duration, downcast = 'unsigned')\n",
    "\n",
    "# make birth_year column a float\n",
    "df_subset.birth_year = pd.to_numeric(df_subset.birth_year, errors='coerce', downcast='float')\n",
    "\n",
    "# downcast floats\n",
    "float_cols = ['start_station_lat', 'start_station_long', 'end_station_lat', 'end_station_long']\n",
    "for col in float_cols:\n",
    "    df_subset[col] = pd.to_numeric(df_subset[col], downcast='float')\n",
    "\n",
    "# convert appropriate columns to categories\n",
    "category_cols = ['start_station_id', 'start_station_name', 'end_station_id', 'end_station_name', 'bike_id', 'user_type',\n",
    "             'gender']\n",
    "for col in category_cols:\n",
    "    df_subset[col] = df_subset[col].astype('category')\n",
    "    \n",
    "# replace numeric representation of gender for actual gender\n",
    "df_subset.gender = df_subset.gender.replace({0: np.nan, 1: 'male', 2: 'female'}).astype('category')"
   ]
  },
  {
   "cell_type": "code",
   "execution_count": 44,
   "metadata": {},
   "outputs": [
    {
     "data": {
      "image/png": "[encoded data removed]",
      "text/plain": [
       "<Figure size 864x360 with 1 Axes>"
      ]
     },
     "metadata": {
      "needs_background": "light"
     },
     "output_type": "display_data"
    }
   ],
   "source": [
    "fig, ax = plt.subplots(figsize=(12, 5))\n",
    "\n",
    "df_subset.resample('D', on='start_time').count()['start_time'].plot()\n",
    "ax.spines['top'].set_visible(False)\n",
    "ax.spines['right'].set_visible(False)\n",
    "plt.title('Trips per day in August 2019')\n",
    "plt.xlabel('Date')\n",
    "plt.ylabel('Number of trips');"
   ]
  }
 ],
 "metadata": {
  "kernelspec": {
   "display_name": "Python 3",
   "language": "python",
   "name": "python3"
  },
  "language_info": {
   "codemirror_mode": {
    "name": "ipython",
    "version": 3
   },
   "file_extension": ".py",
   "mimetype": "text/x-python",
   "name": "python",
   "nbconvert_exporter": "python",
   "pygments_lexer": "ipython3",
   "version": "3.7.4"
  }
 },
 "nbformat": 4,
 "nbformat_minor": 2
}
